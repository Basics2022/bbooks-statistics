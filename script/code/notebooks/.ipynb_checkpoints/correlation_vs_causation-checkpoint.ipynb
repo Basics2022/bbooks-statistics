{
 "cells": [
  {
   "cell_type": "markdown",
   "id": "aa24f530",
   "metadata": {},
   "source": [
    "\n",
    "# Correlation is Not Causation\n",
    "\n",
    "In this chapter, we explore one of the most common misunderstandings in statistics: the difference between **correlation**, **independence**, and **causation**.\n",
    "\n",
    "Understanding these concepts is essential for data analysis, scientific research, and informed decision-making.\n",
    "\n",
    "---\n"
   ]
  },
  {
   "cell_type": "markdown",
   "id": "a4a05f58",
   "metadata": {},
   "source": [
    "\n",
    "## Definitions\n",
    "\n",
    "**Correlation** measures the statistical association between two variables. A high correlation indicates that the variables move together, but not necessarily that one causes the other.\n",
    "\n",
    "**Independence** means that knowing the value of one variable gives no information about the other.\n",
    "\n",
    "**Causation** implies that changes in one variable bring about changes in another.\n",
    "\n",
    "We will explore these using data, visualizations, and tests.\n"
   ]
  },
  {
   "cell_type": "code",
   "execution_count": null,
   "id": "2b97c110",
   "metadata": {},
   "outputs": [],
   "source": [
    "\n",
    "import numpy as np\n",
    "import pandas as pd\n",
    "import matplotlib.pyplot as plt\n",
    "import seaborn as sns\n",
    "from scipy.stats import pearsonr, spearmanr, chi2_contingency\n",
    "\n",
    "sns.set(style='whitegrid')\n",
    "np.random.seed(42)\n"
   ]
  },
  {
   "cell_type": "code",
   "execution_count": null,
   "id": "1ec681e9",
   "metadata": {},
   "outputs": [],
   "source": [
    "\n",
    "# Simulate correlated data\n",
    "x = np.random.normal(0, 1, 100)\n",
    "y = 2 * x + np.random.normal(0, 1, 100)\n",
    "\n",
    "df = pd.DataFrame({'x': x, 'y': y})\n",
    "sns.scatterplot(data=df, x='x', y='y')\n",
    "plt.title('Scatter Plot of Correlated Variables')\n",
    "plt.show()\n",
    "\n",
    "# Pearson correlation coefficient\n",
    "corr, p_value = pearsonr(df['x'], df['y'])\n",
    "print(f\"Pearson correlation: {corr:.2f}, p-value: {p_value:.3f}\")\n"
   ]
  },
  {
   "cell_type": "code",
   "execution_count": null,
   "id": "e9155f70",
   "metadata": {},
   "outputs": [],
   "source": [
    "\n",
    "# Simulate independent variables\n",
    "a = np.random.normal(0, 1, 100)\n",
    "b = np.random.normal(0, 1, 100)\n",
    "\n",
    "df_indep = pd.DataFrame({'a': a, 'b': b})\n",
    "sns.scatterplot(data=df_indep, x='a', y='b')\n",
    "plt.title('Scatter Plot of Independent Variables')\n",
    "plt.show()\n",
    "\n",
    "# Correlation test\n",
    "corr, p_value = pearsonr(df_indep['a'], df_indep['b'])\n",
    "print(f\"Pearson correlation: {corr:.2f}, p-value: {p_value:.3f}\")\n"
   ]
  },
  {
   "cell_type": "code",
   "execution_count": null,
   "id": "a7264d88",
   "metadata": {},
   "outputs": [],
   "source": [
    "\n",
    "# Simulate a confounding variable\n",
    "z = np.random.normal(0, 1, 100)\n",
    "x = 2 * z + np.random.normal(0, 1, 100)\n",
    "y = -3 * z + np.random.normal(0, 1, 100)\n",
    "\n",
    "df_spurious = pd.DataFrame({'x': x, 'y': y, 'z': z})\n",
    "sns.scatterplot(data=df_spurious, x='x', y='y')\n",
    "plt.title('Spurious Correlation via a Confounding Variable')\n",
    "plt.show()\n",
    "\n",
    "corr, _ = pearsonr(df_spurious['x'], df_spurious['y'])\n",
    "print(f\"Correlation between x and y: {corr:.2f} (spurious)\")\n"
   ]
  },
  {
   "cell_type": "markdown",
   "id": "910a357a",
   "metadata": {},
   "source": [
    "\n",
    "## Your Turn: Explore Causation\n",
    "\n",
    "Try changing the relationships between variables and test for correlation. Does correlation imply causation? Try creating a scenario where there is causation but low correlation.\n"
   ]
  }
 ],
 "metadata": {},
 "nbformat": 4,
 "nbformat_minor": 5
}
