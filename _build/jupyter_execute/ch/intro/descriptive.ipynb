{
 "cells": [
  {
   "cell_type": "markdown",
   "id": "803ee84b-6774-48b4-9575-62c0e947cbeb",
   "metadata": {},
   "source": [
    "(intro:descriptive)=\n",
    "# Descriptive Statistics"
   ]
  }
 ],
 "metadata": {
  "kernelspec": {
   "display_name": "Python 3 (ipykernel)",
   "language": "python",
   "name": "python3"
  },
  "language_info": {
   "codemirror_mode": {
    "name": "ipython",
    "version": 3
   },
   "file_extension": ".py",
   "mimetype": "text/x-python",
   "name": "python",
   "nbconvert_exporter": "python",
   "pygments_lexer": "ipython3",
   "version": "3.8.10"
  }
 },
 "nbformat": 4,
 "nbformat_minor": 5
}