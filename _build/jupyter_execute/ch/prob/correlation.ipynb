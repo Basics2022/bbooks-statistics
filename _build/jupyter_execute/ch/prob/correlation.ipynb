{
 "cells": [
  {
   "cell_type": "markdown",
   "id": "54aaff01-4ce9-4db3-8e67-97a5229beff6",
   "metadata": {},
   "source": [
    "(prob:jb:correlation)=\n",
    "# Correlation"
   ]
  },
  {
   "cell_type": "code",
   "execution_count": null,
   "id": "af259776-4935-4d5d-ac7b-1629ed9eae5f",
   "metadata": {},
   "outputs": [],
   "source": []
  }
 ],
 "metadata": {
  "kernelspec": {
   "display_name": "Python 3 (ipykernel)",
   "language": "python",
   "name": "python3"
  },
  "language_info": {
   "codemirror_mode": {
    "name": "ipython",
    "version": 3
   },
   "file_extension": ".py",
   "mimetype": "text/x-python",
   "name": "python",
   "nbconvert_exporter": "python",
   "pygments_lexer": "ipython3",
   "version": "3.8.10"
  }
 },
 "nbformat": 4,
 "nbformat_minor": 5
}